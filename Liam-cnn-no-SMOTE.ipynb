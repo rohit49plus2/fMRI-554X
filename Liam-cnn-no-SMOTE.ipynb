{
 "cells": [
  {
   "cell_type": "code",
   "execution_count": 1,
   "metadata": {},
   "outputs": [],
   "source": [
    "import os\n",
    "import numpy as np\n",
    "import matplotlib.pyplot as plt\n",
    "import torch\n",
    "import torch.nn as nn\n",
    "import torch.utils.data as data_utils\n",
    "from imblearn.over_sampling import SMOTE\n",
    "from sklearn.model_selection import train_test_split\n",
    "import god_config as config\n",
    "dir_path = os.getcwd()"
   ]
  },
  {
   "cell_type": "code",
   "execution_count": 2,
   "metadata": {},
   "outputs": [],
   "source": [
    "#For original WeightedRandomSampler implementation\n",
    "#Load the fMRI data that we processed to be 3 dimensional rectangles by \n",
    "#filling in zeros around the data into X\n",
    "X=np.load(dir_path+'/padded_data/VC.npy')\n",
    "X=X.reshape(X.shape[0],X.shape[1],X.shape[2],X.shape[3])\n",
    "X = torch.Tensor(X).unsqueeze_(1) #need to add a x1 dimension so pytorch doesn't complain when training\n",
    "\n",
    "#Load the labels: \n",
    "# - 0 corresponds to seen data\n",
    "# - 1 corresponds to imagined data\n",
    "datatype=np.load(dir_path+'/padded_data/datatype.npy')\n",
    "y = np.zeros((len(datatype),))\n",
    "y[np.where(datatype == 3)[0]] = 1\n",
    "y = torch.LongTensor(y)\n",
    "\n",
    "#Split the data into 80% training, 20% testing\n",
    "dataset = data_utils.TensorDataset(X, y)\n",
    "train_set_size = int(0.8 * len(y))\n",
    "train_set, test_set = data_utils.random_split(dataset, [train_set_size, len(y) - train_set_size])"
   ]
  },
  {
   "cell_type": "code",
   "execution_count": 3,
   "metadata": {},
   "outputs": [
    {
     "name": "stdout",
     "output_type": "stream",
     "text": [
      "Original seen samples:\t\t 14750\n",
      "Original imagined samples:\t 2500\n"
     ]
    }
   ],
   "source": [
    "#Note: The classes are unbalance, this is why we implemented SMOTE. \n",
    "#SMOTE works by using k nearest neighbors to generate new data of the \n",
    "#undersampled class\n",
    "print (\"Original seen samples:\\t\\t\",len(y[y==0]))\n",
    "print (\"Original imagined samples:\\t\",len(y[y==1]))\n",
    "# print (\"New seen samples:\\t\\t\", len(y_train[y_train == 0]))\n",
    "# print (\"New imagined samples:\\t\\t\", len(y_train[y_train == 1]))"
   ]
  },
  {
   "cell_type": "code",
   "execution_count": 4,
   "metadata": {},
   "outputs": [],
   "source": [
    "#Create the Weighted Random Sampler\n",
    "seen_prob = 1/len(y[y==0])\n",
    "imag_prob = 1/len(y[y==1])\n",
    "sampler = data_utils.sampler.WeightedRandomSampler([seen_prob, imag_prob], len(train_set), replacement = True)\n",
    "batch_size = 60\n",
    "\n",
    "#Create the pytorch Dataloader objects\n",
    "\n",
    "#For Original WeightedRandomSampler implementation\n",
    "train_loader = data_utils.DataLoader(train_set,\n",
    "                                     batch_size = batch_size,\n",
    "                                     num_workers = 0,\n",
    "                                     sampler = sampler)\n",
    "\n",
    "test_loader = data_utils.DataLoader(test_set,\n",
    "                                    batch_size = batch_size,\n",
    "                                    shuffle = False,\n",
    "                                    num_workers = 0)"
   ]
  },
  {
   "cell_type": "code",
   "execution_count": 7,
   "metadata": {},
   "outputs": [],
   "source": [
    "#Define the convolutional neural network model\n",
    "#Note: Each fmri scan is of size 45 x 29 x 22\n",
    "class fmriNet2(nn.Module):\n",
    "    def __init__(self):\n",
    "        super(fmriNet2, self).__init__()\n",
    "        #conv1, conv2, and conv3 maintain input dimensions\n",
    "        self.conv1 = nn.Sequential(\n",
    "            nn.Conv3d(1, 8, 3, padding = 1),\n",
    "            nn.BatchNorm3d(8),\n",
    "            nn.ReLU())\n",
    "        self.conv2 = nn.Sequential(\n",
    "            nn.Conv3d(8, 8, 3, padding = 1),\n",
    "            nn.BatchNorm3d(8),\n",
    "            nn.ReLU())\n",
    "        self.conv3 = nn.Sequential(\n",
    "            nn.Conv3d(8, 8, 3, padding = 1),\n",
    "            nn.BatchNorm3d(8),\n",
    "            nn.ReLU())\n",
    "        #conv4 changes data to object of size 20 x 13 x 9\n",
    "        self.conv4 = nn.Sequential(\n",
    "            nn.Conv3d(8, 16, (7,5,4), stride = (2,2,2)),\n",
    "            nn.BatchNorm3d(16),\n",
    "            nn.ReLU())\n",
    "        \n",
    "        #conv5, conv6, and conv7 maintain dimensions 20 x 13 x 9\n",
    "        self.conv5 = nn.Sequential(\n",
    "            nn.Conv3d(16, 16, 3, padding = 1),\n",
    "            nn.BatchNorm3d(16),\n",
    "            nn.ReLU())\n",
    "        self.conv6 = nn.Sequential(\n",
    "            nn.Conv3d(16, 16, 3, padding = 1),\n",
    "            nn.BatchNorm3d(16),\n",
    "            nn.ReLU())\n",
    "        self.conv7 = nn.Sequential(\n",
    "            nn.Conv3d(16, 16, 3, padding = 1),\n",
    "            nn.BatchNorm3d(16),\n",
    "            nn.ReLU())\n",
    "        \n",
    "        #conv8 changes data to object of size 7 x 5 x 4\n",
    "        self.conv8 = nn.Sequential(\n",
    "            nn.Conv3d(16, 32, (8,5,3), stride = (2,2,2)),\n",
    "            nn.BatchNorm3d(32),\n",
    "            nn.ReLU())\n",
    "        \n",
    "        #conv9, conv10, and conv11 maintain dimensions 7 x 5 x 4\n",
    "        self.conv9 = nn.Sequential(\n",
    "            nn.Conv3d(32, 32, 3, padding = 1),\n",
    "            nn.BatchNorm3d(32),\n",
    "            nn.ReLU())\n",
    "        self.conv10 = nn.Sequential(\n",
    "            nn.Conv3d(32, 32, 3, padding = 1),\n",
    "            nn.BatchNorm3d(32),\n",
    "            nn.ReLU())\n",
    "        self.conv11 = nn.Sequential(\n",
    "            nn.Conv3d(32, 32, 3, padding = 1),\n",
    "            nn.BatchNorm3d(32),\n",
    "            nn.ReLU(),\n",
    "            nn.Dropout(0.5))\n",
    "        \n",
    "        #Flatten to vector of length 32 x 7 x 5 x 4 = 4480\n",
    "        #Fully connected layer from 4480 to 100\n",
    "        self.fc1 = nn.Sequential(\n",
    "            nn.Linear(4480, 1000),\n",
    "            nn.ReLU(),\n",
    "            nn.Dropout(0.5))\n",
    "        #Fully connected layer from 100 to 10\n",
    "        self.fc2 = nn.Sequential(\n",
    "            nn.Linear(1000,100),\n",
    "            nn.ReLU(),\n",
    "            nn.Dropout(0.5))\n",
    "        self.fc3 = nn.Sequential(\n",
    "            nn.Linear(100,10),\n",
    "            nn.ReLU(),\n",
    "            nn.Dropout(0.5))\n",
    "        #Fully connected layer from 10 to 2, being the two outputs\n",
    "        self.fcout = nn.Linear(10,2)\n",
    "        \n",
    "    def forward(self, x):\n",
    "        out = self.conv1(x)\n",
    "        out = self.conv2(out)\n",
    "        out = self.conv3(out)\n",
    "        out = self.conv4(out)\n",
    "        out = self.conv5(out)\n",
    "        out = self.conv6(out)\n",
    "        out = self.conv7(out)\n",
    "        out = self.conv8(out)\n",
    "        out = self.conv9(out)\n",
    "        out = self.conv10(out)\n",
    "        out = self.conv11(out)\n",
    "        out = out.reshape(out.size(0), -1)\n",
    "        out = self.fc1(out)\n",
    "        out = self.fc2(out)\n",
    "        out = self.fc3(out)\n",
    "        out = self.fcout(out)\n",
    "        return out"
   ]
  },
  {
   "cell_type": "code",
   "execution_count": 8,
   "metadata": {},
   "outputs": [
    {
     "name": "stdout",
     "output_type": "stream",
     "text": [
      "Running on: cuda:0\n"
     ]
    }
   ],
   "source": [
    "#initialize model and move to gpu if available\n",
    "device = torch.device('cuda:0' if torch.cuda.is_available() else 'cpu')\n",
    "print (\"Running on:\",device)\n",
    "model = fmriNet2()\n",
    "model.to(device)\n",
    "\n",
    "#hyperparameters other than batch size above\n",
    "num_epochs = 3\n",
    "learning_rate = 0.0001\n",
    "betas = (0.9,0.999) #defaults (known to be applicable in most situations according to creator's publication)\n",
    "optimizer = torch.optim.Adam(model.parameters(), lr = learning_rate, betas = betas, weight_decay = 0.01)\n",
    "criterion = nn.CrossEntropyLoss()"
   ]
  },
  {
   "cell_type": "code",
   "execution_count": 9,
   "metadata": {},
   "outputs": [
    {
     "name": "stdout",
     "output_type": "stream",
     "text": [
      "Epoch: [1/3]\tStep: [230/230]\tLoss:0.0369769968\r"
     ]
    },
    {
     "data": {
      "image/png": "[encoded data removed]",
      "text/plain": [
       "<Figure size 432x288 with 1 Axes>"
      ]
     },
     "metadata": {},
     "output_type": "display_data"
    },
    {
     "name": "stdout",
     "output_type": "stream",
     "text": [
      "Epoch: [2/3]\tStep: [230/230]\tLoss:0.0244044792\r"
     ]
    },
    {
     "data": {
      "image/png": "[encoded data removed]",
      "text/plain": [
       "<Figure size 432x288 with 1 Axes>"
      ]
     },
     "metadata": {},
     "output_type": "display_data"
    },
    {
     "name": "stdout",
     "output_type": "stream",
     "text": [
      "Epoch: [3/3]\tStep: [230/230]\tLoss:0.0757589638\r"
     ]
    },
    {
     "data": {
      "image/png": "[encoded data removed]",
      "text/plain": [
       "<Figure size 432x288 with 1 Axes>"
      ]
     },
     "metadata": {},
     "output_type": "display_data"
    }
   ],
   "source": [
    "#Training the model\n",
    "losses = []\n",
    "steps_per_epoch = int(len(train_set)/batch_size)\n",
    "model.train()\n",
    "for i in range(num_epochs):\n",
    "    for j, sample in enumerate(train_loader):\n",
    "        #move data to gpu\n",
    "        fmris = sample[0].to(device)\n",
    "        labels = sample[1].to(device)\n",
    "        \n",
    "        #feed data forward\n",
    "        outputs = model(fmris)\n",
    "        loss = criterion(outputs, labels)\n",
    "        losses.append(loss)\n",
    "        \n",
    "        #backpropagation\n",
    "        optimizer.zero_grad()\n",
    "        loss.backward()\n",
    "        optimizer.step()\n",
    "        print (\"Epoch: [{}/{}]\\tStep: [{}/{}]\\tLoss:{:.10f}\".format(i+1,num_epochs,j+1,steps_per_epoch, loss), end = \"\\r\")\n",
    "        if (j+1 == steps_per_epoch):\n",
    "            plt.plot(losses)\n",
    "            plt.show()"
   ]
  },
  {
   "cell_type": "code",
   "execution_count": 10,
   "metadata": {},
   "outputs": [
    {
     "name": "stdout",
     "output_type": "stream",
     "text": [
      "Accuracy: 86.03 [2968/3450]\n"
     ]
    }
   ],
   "source": [
    "#Test the model\n",
    "model.eval() #turns off moving average in batch normalization\n",
    "total_items = len(test_set)\n",
    "correct = 0\n",
    "with torch.no_grad():\n",
    "    for i, sample in enumerate(test_loader):\n",
    "        #move data to gpu\n",
    "        fmris = sample[0].to(device)\n",
    "        labels = sample[1].to(device)\n",
    "        \n",
    "        #feed data forward\n",
    "        outputs = model(fmris)\n",
    "        \n",
    "        _, predicted = torch.max(outputs, 1)\n",
    "        correct += torch.sum(predicted == labels).item()\n",
    "        print (\"Step [{}/{}]\".format(i+1, len(test_loader)), end = \"\\r\")\n",
    "        \n",
    "print (\"Accuracy: {:.2f} [{}/{}]\".format(correct/total_items*100, correct,total_items))"
   ]
  },
  {
   "cell_type": "code",
   "execution_count": 11,
   "metadata": {},
   "outputs": [
    {
     "name": "stdout",
     "output_type": "stream",
     "text": [
      "4769492\n"
     ]
    }
   ],
   "source": [
    "model_params = sum(p.numel() for p in model.parameters())\n",
    "print (model_params)"
   ]
  },
  {
   "cell_type": "code",
   "execution_count": 5,
   "metadata": {},
   "outputs": [],
   "source": [
    "#fmriNet is better, don't need this one\n",
    "\n",
    "class testNet(nn.Module):\n",
    "    def __init__(self):\n",
    "        super(testNet, self).__init__()\n",
    "        #45 x 29 x 20\n",
    "        self.conv1 = nn.Sequential(\n",
    "            nn.Conv3d(1, 8, (11,6,5)),\n",
    "            nn.BatchNorm3d(8),\n",
    "            nn.ReLU())\n",
    "        #35x24x16\n",
    "        self.conv2 = nn.Sequential(\n",
    "            nn.Conv3d(8, 16, (11,6,5)),\n",
    "            nn.BatchNorm3d(16),\n",
    "            nn.ReLU())\n",
    "        #25x19x12\n",
    "        self.conv3 = nn.Sequential(\n",
    "            nn.Conv3d(16,32,(11,6,5)),\n",
    "            nn.BatchNorm3d(32),\n",
    "            nn.ReLU())\n",
    "        #15x14x8\n",
    "        self.conv4 = nn.Sequential(\n",
    "            nn.Conv3d(32,64,(6,5,3)),\n",
    "            nn.BatchNorm3d(64),\n",
    "            nn.ReLU())\n",
    "        #10x10x6\n",
    "        self.conv5 = nn.Sequential(\n",
    "            nn.Conv3d(64,128,(4,4,3)),\n",
    "            nn.BatchNorm3d(128),\n",
    "            nn.ReLU())\n",
    "        #7x7x4\n",
    "        self.conv6 = nn.Sequential(\n",
    "            nn.Conv3d(128,256, (4,4,2)),\n",
    "            nn.BatchNorm3d(256),\n",
    "            nn.ReLU())\n",
    "        #4x4x3 x 256 = 12288\n",
    "        self.fc1 = nn.Sequential(\n",
    "            nn.Linear(12288, 1000),\n",
    "            nn.ReLU())\n",
    "        self.fc2 = nn.Sequential(\n",
    "            nn.Linear(1000,100),\n",
    "            nn.ReLU())\n",
    "        self.fcout = nn.Linear(100,2)\n",
    "        \n",
    "    def forward(self,x):\n",
    "        out = self.conv1(x)\n",
    "        out = self.conv2(out)\n",
    "        out = self.conv3(out)\n",
    "        out = self.conv4(out)\n",
    "        out = self.conv5(out)\n",
    "        out = self.conv6(out)\n",
    "        out = out.reshape(out.size(0), -1)\n",
    "        out = self.fc1(out)\n",
    "        out = self.fc2(out)\n",
    "        out = self.fcout(out)\n",
    "        return out"
   ]
  },
  {
   "cell_type": "code",
   "execution_count": null,
   "metadata": {},
   "outputs": [],
   "source": []
  }
 ],
 "metadata": {
  "kernelspec": {
   "display_name": "Python 3",
   "language": "python",
   "name": "python3"
  },
  "language_info": {
   "codemirror_mode": {
    "name": "ipython",
    "version": 3
   },
   "file_extension": ".py",
   "mimetype": "text/x-python",
   "name": "python",
   "nbconvert_exporter": "python",
   "pygments_lexer": "ipython3",
   "version": "3.6.9"
  }
 },
 "nbformat": 4,
 "nbformat_minor": 2
}
